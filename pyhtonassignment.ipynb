{
  "nbformat": 4,
  "nbformat_minor": 0,
  "metadata": {
    "colab": {
      "provenance": [],
      "authorship_tag": "ABX9TyOWvFSab3WR5SroH5ZhBgJi",
      "include_colab_link": true
    },
    "kernelspec": {
      "name": "python3",
      "display_name": "Python 3"
    },
    "language_info": {
      "name": "python"
    }
  },
  "cells": [
    {
      "cell_type": "markdown",
      "metadata": {
        "id": "view-in-github",
        "colab_type": "text"
      },
      "source": [
        "<a href=\"https://colab.research.google.com/github/nitin2001581402/python/blob/main/pyhtonassignment.ipynb\" target=\"_parent\"><img src=\"https://colab.research.google.com/assets/colab-badge.svg\" alt=\"Open In Colab\"/></a>"
      ]
    },
    {
      "cell_type": "code",
      "source": [
        "import requests\n",
        "\n",
        "def get_weather(city):\n",
        "    api_key = 'df3e1a0ee6ca9ac1d49bb70e0321f9c5'\n",
        "    url = f'http://api.openweathermap.org/data/2.5/weather?q={city}&appid={api_key}&units=metric'\n",
        "    response = requests.get(url)\n",
        "    if response.status_code == 200:\n",
        "        return response.json()\n",
        "    else:\n",
        "        print(\"Error fetching weather data.\")\n",
        "        return None\n",
        "\n",
        "def display_weather(weather_data):\n",
        "    if weather_data:\n",
        "        print(\"\\nWeather Information:\")\n",
        "        print(f\"Temperature: {weather_data['main']['temp']}°C\")\n",
        "        print(f\"Feels like: {weather_data['main']['feels_like']}°C\")\n",
        "        print(f\"Humidity: {weather_data['main']['humidity']}%\")\n",
        "        print(f\"Description: {weather_data['weather'][0]['description']}\")\n",
        "    else:\n",
        "        print(\"No weather data available.\")\n",
        "\n",
        "def main():\n",
        "    while True:\n",
        "        city = input(\"\\nEnter city name (or 'q' to quit): \")\n",
        "        if city.lower() == 'q':\n",
        "            break\n",
        "        weather_data = get_weather(city)\n",
        "        display_weather(weather_data)\n",
        "\n",
        "if __name__ == \"__main__\":\n",
        "    main()\n"
      ],
      "metadata": {
        "colab": {
          "base_uri": "https://localhost:8080/"
        },
        "id": "JwwBZFIQn32K",
        "outputId": "c46025de-a9aa-412a-8d0a-26f9a46d0cd8"
      },
      "execution_count": null,
      "outputs": [
        {
          "output_type": "stream",
          "name": "stdout",
          "text": [
            "\n",
            "Enter city name (or 'q' to quit): sirsi\n",
            "\n",
            "Weather Information:\n",
            "Temperature: 24.36°C\n",
            "Feels like: 25.1°C\n",
            "Humidity: 86%\n",
            "Description: broken clouds\n",
            "\n",
            "Enter city name (or 'q' to quit): bangalore\n",
            "\n",
            "Weather Information:\n",
            "Temperature: 30.23°C\n",
            "Feels like: 32.09°C\n",
            "Humidity: 54%\n",
            "Description: broken clouds\n"
          ]
        }
      ]
    }
  ]
}